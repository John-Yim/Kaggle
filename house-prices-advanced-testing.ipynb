{
 "cells": [
  {
   "cell_type": "code",
   "execution_count": 1,
   "id": "70f7f646",
   "metadata": {
    "_cell_guid": "b1076dfc-b9ad-4769-8c92-a6c4dae69d19",
    "_uuid": "8f2839f25d086af736a60e9eeb907d3b93b6e0e5",
    "execution": {
     "iopub.execute_input": "2025-04-25T03:19:05.635687Z",
     "iopub.status.busy": "2025-04-25T03:19:05.635402Z",
     "iopub.status.idle": "2025-04-25T03:19:07.375577Z",
     "shell.execute_reply": "2025-04-25T03:19:07.374555Z"
    },
    "papermill": {
     "duration": 1.744783,
     "end_time": "2025-04-25T03:19:07.377138",
     "exception": false,
     "start_time": "2025-04-25T03:19:05.632355",
     "status": "completed"
    },
    "tags": []
   },
   "outputs": [
    {
     "name": "stdout",
     "output_type": "stream",
     "text": [
      "/kaggle/input/house-prices-advanced-regression-techniques/sample_submission.csv\n",
      "/kaggle/input/house-prices-advanced-regression-techniques/data_description.txt\n",
      "/kaggle/input/house-prices-advanced-regression-techniques/train.csv\n",
      "/kaggle/input/house-prices-advanced-regression-techniques/test.csv\n"
     ]
    }
   ],
   "source": [
    "# This Python 3 environment comes with many helpful analytics libraries installed\n",
    "# It is defined by the kaggle/python Docker image: https://github.com/kaggle/docker-python\n",
    "# For example, here's several helpful packages to load\n",
    "\n",
    "import numpy as np # linear algebra\n",
    "import pandas as pd # data processing, CSV file I/O (e.g. pd.read_csv)\n",
    "\n",
    "# Input data files are available in the read-only \"../input/\" directory\n",
    "# For example, running this (by clicking run or pressing Shift+Enter) will list all files under the input directory\n",
    "\n",
    "import os\n",
    "for dirname, _, filenames in os.walk('/kaggle/input'):\n",
    "    for filename in filenames:\n",
    "        print(os.path.join(dirname, filename))\n",
    "\n",
    "# You can write up to 20GB to the current directory (/kaggle/working/) that gets preserved as output when you create a version using \"Save & Run All\" \n",
    "# You can also write temporary files to /kaggle/temp/, but they won't be saved outside of the current session"
   ]
  },
  {
   "cell_type": "code",
   "execution_count": 2,
   "id": "e953a6d2",
   "metadata": {
    "execution": {
     "iopub.execute_input": "2025-04-25T03:19:07.381480Z",
     "iopub.status.busy": "2025-04-25T03:19:07.381132Z",
     "iopub.status.idle": "2025-04-25T03:19:13.138324Z",
     "shell.execute_reply": "2025-04-25T03:19:13.137312Z"
    },
    "papermill": {
     "duration": 5.760885,
     "end_time": "2025-04-25T03:19:13.139808",
     "exception": false,
     "start_time": "2025-04-25T03:19:07.378923",
     "status": "completed"
    },
    "tags": []
   },
   "outputs": [],
   "source": [
    "train = pd.read_csv('/kaggle/input/house-prices-advanced-regression-techniques/train.csv').copy()\n",
    "test = pd.read_csv('/kaggle/input/house-prices-advanced-regression-techniques/test.csv').copy()\n",
    "\n",
    "target = train.pop('SalePrice')\n",
    "df = pd.concat([train, test])\n",
    "df = df.apply(lambda col: col.fillna(col.mode()[0]))\n",
    "\n",
    "df= pd.get_dummies(df)\n",
    "\n",
    "train = df.iloc[:len(train)].copy()\n",
    "test = df.iloc[len(train):].copy()\n",
    "\n",
    "from sklearn.ensemble import RandomForestRegressor\n",
    "rf = RandomForestRegressor()\n",
    "rf.fit(train, target)\n",
    "\n",
    "pred = rf.predict(test)\n",
    "submission = pd.DataFrame({'Id': test['Id'], 'SalePrice': pred})\n",
    "submission.to_csv(\"/kaggle/working/submission.csv\", index=False)"
   ]
  }
 ],
 "metadata": {
  "kaggle": {
   "accelerator": "none",
   "dataSources": [
    {
     "databundleVersionId": 868283,
     "sourceId": 5407,
     "sourceType": "competition"
    }
   ],
   "dockerImageVersionId": 31012,
   "isGpuEnabled": false,
   "isInternetEnabled": true,
   "language": "python",
   "sourceType": "notebook"
  },
  "kernelspec": {
   "display_name": "Python 3",
   "language": "python",
   "name": "python3"
  },
  "language_info": {
   "codemirror_mode": {
    "name": "ipython",
    "version": 3
   },
   "file_extension": ".py",
   "mimetype": "text/x-python",
   "name": "python",
   "nbconvert_exporter": "python",
   "pygments_lexer": "ipython3",
   "version": "3.11.11"
  },
  "papermill": {
   "default_parameters": {},
   "duration": 12.728791,
   "end_time": "2025-04-25T03:19:13.760742",
   "environment_variables": {},
   "exception": null,
   "input_path": "__notebook__.ipynb",
   "output_path": "__notebook__.ipynb",
   "parameters": {},
   "start_time": "2025-04-25T03:19:01.031951",
   "version": "2.6.0"
  }
 },
 "nbformat": 4,
 "nbformat_minor": 5
}
